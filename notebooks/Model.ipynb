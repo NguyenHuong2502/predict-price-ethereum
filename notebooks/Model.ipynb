{
 "cells": [
  {
   "cell_type": "code",
   "execution_count": 28,
   "id": "b831c549",
   "metadata": {},
   "outputs": [],
   "source": [
    "import pandas as pd\n",
    "import numpy as np\n",
    "from sklearn.preprocessing import MinMaxScaler\n",
    "from sklearn.metrics import mean_absolute_error, mean_squared_error\n",
    "from sklearn.model_selection import TimeSeriesSplit\n",
    "from tensorflow.keras.models import Sequential\n",
    "from tensorflow.keras.layers import LSTM, Dropout, Dense\n",
    "from tensorflow.keras.callbacks import EarlyStopping, ReduceLROnPlateau\n",
    "import matplotlib.pyplot as plt\n",
    "import seaborn as sns\n",
    "from scipy.stats import pearsonr\n",
    "import os\n",
    "import random\n",
    "import tensorflow as tf"
   ]
  },
  {
   "cell_type": "code",
   "execution_count": 29,
   "id": "118b7164",
   "metadata": {},
   "outputs": [],
   "source": [
    "# Đọc dữ liệu\n",
    "df = pd.read_csv(r\"C:\\Users\\HI\\Desktop\\predict-price-ethereum\\predict-price-ethereum\\data\\df_cleaned.csv\", parse_dates=[\"timestamp_utc\"], index_col='timestamp_utc')"
   ]
  },
  {
   "cell_type": "code",
   "execution_count": 30,
   "id": "338b892a",
   "metadata": {},
   "outputs": [
    {
     "data": {
      "text/html": [
       "<div>\n",
       "<style scoped>\n",
       "    .dataframe tbody tr th:only-of-type {\n",
       "        vertical-align: middle;\n",
       "    }\n",
       "\n",
       "    .dataframe tbody tr th {\n",
       "        vertical-align: top;\n",
       "    }\n",
       "\n",
       "    .dataframe thead th {\n",
       "        text-align: right;\n",
       "    }\n",
       "</style>\n",
       "<table border=\"1\" class=\"dataframe\">\n",
       "  <thead>\n",
       "    <tr style=\"text-align: right;\">\n",
       "      <th></th>\n",
       "      <th>open</th>\n",
       "      <th>high</th>\n",
       "      <th>low</th>\n",
       "      <th>close_eth</th>\n",
       "      <th>volume_eth</th>\n",
       "      <th>volume_usdt</th>\n",
       "      <th>trade_count</th>\n",
       "      <th>close_btc</th>\n",
       "      <th>fedfunds</th>\n",
       "      <th>dxy</th>\n",
       "      <th>ema_12</th>\n",
       "      <th>ema_26</th>\n",
       "      <th>macd</th>\n",
       "      <th>macd_signal</th>\n",
       "      <th>rsi_14</th>\n",
       "    </tr>\n",
       "    <tr>\n",
       "      <th>timestamp_utc</th>\n",
       "      <th></th>\n",
       "      <th></th>\n",
       "      <th></th>\n",
       "      <th></th>\n",
       "      <th></th>\n",
       "      <th></th>\n",
       "      <th></th>\n",
       "      <th></th>\n",
       "      <th></th>\n",
       "      <th></th>\n",
       "      <th></th>\n",
       "      <th></th>\n",
       "      <th></th>\n",
       "      <th></th>\n",
       "      <th></th>\n",
       "    </tr>\n",
       "  </thead>\n",
       "  <tbody>\n",
       "    <tr>\n",
       "      <th>2022-01-01 07:00:00</th>\n",
       "      <td>3711.93</td>\n",
       "      <td>3724.93</td>\n",
       "      <td>3701.00</td>\n",
       "      <td>3715.31</td>\n",
       "      <td>6541.6499</td>\n",
       "      <td>2.428604e+07</td>\n",
       "      <td>17918</td>\n",
       "      <td>47194.73</td>\n",
       "      <td>0.08</td>\n",
       "      <td>95.669998</td>\n",
       "      <td>3712.289733</td>\n",
       "      <td>3711.268607</td>\n",
       "      <td>1.021126</td>\n",
       "      <td>-2.217128</td>\n",
       "      <td>48.867772</td>\n",
       "    </tr>\n",
       "    <tr>\n",
       "      <th>2022-01-01 08:00:00</th>\n",
       "      <td>3715.32</td>\n",
       "      <td>3733.84</td>\n",
       "      <td>3708.60</td>\n",
       "      <td>3721.40</td>\n",
       "      <td>4013.6403</td>\n",
       "      <td>1.493429e+07</td>\n",
       "      <td>13856</td>\n",
       "      <td>47124.82</td>\n",
       "      <td>0.08</td>\n",
       "      <td>95.669998</td>\n",
       "      <td>3713.691312</td>\n",
       "      <td>3712.019080</td>\n",
       "      <td>1.672232</td>\n",
       "      <td>-1.439256</td>\n",
       "      <td>52.974584</td>\n",
       "    </tr>\n",
       "    <tr>\n",
       "      <th>2022-01-01 09:00:00</th>\n",
       "      <td>3721.14</td>\n",
       "      <td>3730.00</td>\n",
       "      <td>3709.38</td>\n",
       "      <td>3718.67</td>\n",
       "      <td>4515.6636</td>\n",
       "      <td>1.680313e+07</td>\n",
       "      <td>14268</td>\n",
       "      <td>47143.98</td>\n",
       "      <td>0.08</td>\n",
       "      <td>95.669998</td>\n",
       "      <td>3714.457264</td>\n",
       "      <td>3712.511741</td>\n",
       "      <td>1.945523</td>\n",
       "      <td>-0.762300</td>\n",
       "      <td>72.018873</td>\n",
       "    </tr>\n",
       "    <tr>\n",
       "      <th>2022-01-01 10:00:00</th>\n",
       "      <td>3718.67</td>\n",
       "      <td>3731.88</td>\n",
       "      <td>3673.46</td>\n",
       "      <td>3691.39</td>\n",
       "      <td>10412.4737</td>\n",
       "      <td>3.851047e+07</td>\n",
       "      <td>27897</td>\n",
       "      <td>46871.08</td>\n",
       "      <td>0.08</td>\n",
       "      <td>95.669998</td>\n",
       "      <td>3710.908454</td>\n",
       "      <td>3710.947168</td>\n",
       "      <td>-0.038713</td>\n",
       "      <td>-0.617583</td>\n",
       "      <td>60.614666</td>\n",
       "    </tr>\n",
       "    <tr>\n",
       "      <th>2022-01-01 11:00:00</th>\n",
       "      <td>3691.39</td>\n",
       "      <td>3712.19</td>\n",
       "      <td>3691.02</td>\n",
       "      <td>3693.37</td>\n",
       "      <td>4786.2173</td>\n",
       "      <td>1.771969e+07</td>\n",
       "      <td>15708</td>\n",
       "      <td>46758.87</td>\n",
       "      <td>0.08</td>\n",
       "      <td>95.669998</td>\n",
       "      <td>3708.210231</td>\n",
       "      <td>3709.645155</td>\n",
       "      <td>-1.434925</td>\n",
       "      <td>-0.781051</td>\n",
       "      <td>51.401605</td>\n",
       "    </tr>\n",
       "  </tbody>\n",
       "</table>\n",
       "</div>"
      ],
      "text/plain": [
       "                        open     high      low  close_eth  volume_eth  \\\n",
       "timestamp_utc                                                           \n",
       "2022-01-01 07:00:00  3711.93  3724.93  3701.00    3715.31   6541.6499   \n",
       "2022-01-01 08:00:00  3715.32  3733.84  3708.60    3721.40   4013.6403   \n",
       "2022-01-01 09:00:00  3721.14  3730.00  3709.38    3718.67   4515.6636   \n",
       "2022-01-01 10:00:00  3718.67  3731.88  3673.46    3691.39  10412.4737   \n",
       "2022-01-01 11:00:00  3691.39  3712.19  3691.02    3693.37   4786.2173   \n",
       "\n",
       "                      volume_usdt  trade_count  close_btc  fedfunds  \\\n",
       "timestamp_utc                                                         \n",
       "2022-01-01 07:00:00  2.428604e+07        17918   47194.73      0.08   \n",
       "2022-01-01 08:00:00  1.493429e+07        13856   47124.82      0.08   \n",
       "2022-01-01 09:00:00  1.680313e+07        14268   47143.98      0.08   \n",
       "2022-01-01 10:00:00  3.851047e+07        27897   46871.08      0.08   \n",
       "2022-01-01 11:00:00  1.771969e+07        15708   46758.87      0.08   \n",
       "\n",
       "                           dxy       ema_12       ema_26      macd  \\\n",
       "timestamp_utc                                                        \n",
       "2022-01-01 07:00:00  95.669998  3712.289733  3711.268607  1.021126   \n",
       "2022-01-01 08:00:00  95.669998  3713.691312  3712.019080  1.672232   \n",
       "2022-01-01 09:00:00  95.669998  3714.457264  3712.511741  1.945523   \n",
       "2022-01-01 10:00:00  95.669998  3710.908454  3710.947168 -0.038713   \n",
       "2022-01-01 11:00:00  95.669998  3708.210231  3709.645155 -1.434925   \n",
       "\n",
       "                     macd_signal     rsi_14  \n",
       "timestamp_utc                                \n",
       "2022-01-01 07:00:00    -2.217128  48.867772  \n",
       "2022-01-01 08:00:00    -1.439256  52.974584  \n",
       "2022-01-01 09:00:00    -0.762300  72.018873  \n",
       "2022-01-01 10:00:00    -0.617583  60.614666  \n",
       "2022-01-01 11:00:00    -0.781051  51.401605  "
      ]
     },
     "execution_count": 30,
     "metadata": {},
     "output_type": "execute_result"
    }
   ],
   "source": [
    "# Sắp xếp theo thời gian (đảm bảo thứ tự)\n",
    "df.sort_values(\"timestamp_utc\", inplace=True)\n",
    "\n",
    "df.head()"
   ]
  },
  {
   "cell_type": "code",
   "execution_count": 31,
   "id": "527a0f59",
   "metadata": {},
   "outputs": [
    {
     "data": {
      "image/png": "[encoded data removed]",
      "text/plain": [
       "<Figure size 1200x800 with 2 Axes>"
      ]
     },
     "metadata": {},
     "output_type": "display_data"
    }
   ],
   "source": [
    "# Phân tích correlation để chọn feature\n",
    "corr_matrix = df.corr()\n",
    "plt.figure(figsize=(12, 8))\n",
    "sns.heatmap(corr_matrix, annot=True, cmap='coolwarm') \n",
    "plt.title('Correlation Matrix')\n",
    "plt.show()"
   ]
  },
  {
   "cell_type": "code",
   "execution_count": 32,
   "id": "aad91f1a",
   "metadata": {},
   "outputs": [
    {
     "name": "stdout",
     "output_type": "stream",
     "text": [
      "Shape X_train: (21399, 72, 4)\n",
      "Shape y_train: (21399, 24)\n"
     ]
    }
   ],
   "source": [
    "selected_features = ['close_eth', 'volume_eth', 'close_btc', 'dxy']\n",
    "df_selected = df[selected_features].copy()\n",
    "# Cố định seed cho Python, NumPy và TensorFlow\n",
    "seed_value = 42\n",
    "os.environ['PYTHONHASHSEED'] = str(seed_value)  # Cố định hash\n",
    "random.seed(seed_value)  # Cố định Python Random\n",
    "np.random.seed(seed_value)  # Cố định NumPy Random\n",
    "tf.random.set_seed(seed_value)\n",
    "timestamps = df.index.to_list()  # giữ lại thời gian gốc\n",
    "\n",
    "# 2. Scale dữ liệu\n",
    "scaler = MinMaxScaler()\n",
    "scaled = scaler.fit_transform(df_selected)#z = x-xmin/xmax-xmin\n",
    "\n",
    "# tạo chuỗi \n",
    "lookback = 72\n",
    "steps_ahead = 24\n",
    "\n",
    "def create_sequences_with_time(data, timestamps, lookback, steps_ahead):\n",
    "    X, y, times = [], [], []\n",
    "    for i in range(len(data) - lookback - steps_ahead + 1):\n",
    "        X.append(data[i:i+lookback])\n",
    "        y.append(data[i+lookback:i+lookback+steps_ahead, 0])  \n",
    "        times.append(timestamps[i+lookback:i+lookback+steps_ahead])  # lưu thời gian dự đoán\n",
    "    return np.array(X), np.array(y), np.array(times)\n",
    "\n",
    "X, y, times = create_sequences_with_time(scaled, timestamps, lookback, steps_ahead)\n",
    "###\n",
    "\n",
    "# chia train test\n",
    "train_size = 0.7\n",
    "val_size = 0.1\n",
    "\n",
    "n_samples = len(X)\n",
    "train_idx = int(n_samples * train_size)\n",
    "val_idx = int(n_samples * (train_size + val_size))\n",
    "\n",
    "X_train, X_val, X_test = X[:train_idx], X[train_idx:val_idx], X[val_idx:]\n",
    "y_train, y_val, y_test = y[:train_idx], y[train_idx:val_idx], y[val_idx:]\n",
    "times_train, times_val, times_test = times[:train_idx], times[train_idx:val_idx], times[val_idx:]\n",
    "\n",
    "# Không reshape vì X đã ở dạng (samples, lookback, n_features)\n",
    "print(\"Shape X_train:\", X_train.shape)  \n",
    "print(\"Shape y_train:\", y_train.shape)"
   ]
  },
  {
   "cell_type": "code",
   "execution_count": 33,
   "id": "c7de4e28",
   "metadata": {},
   "outputs": [
    {
     "name": "stdout",
     "output_type": "stream",
     "text": [
      "Model: \"sequential_1\"\n",
      "_________________________________________________________________\n",
      " Layer (type)                Output Shape              Param #   \n",
      "=================================================================\n",
      " lstm_1 (LSTM)               (None, 64)                17664     \n",
      "                                                                 \n",
      " dense_1 (Dense)             (None, 24)                1560      \n",
      "                                                                 \n",
      "=================================================================\n",
      "Total params: 19,224\n",
      "Trainable params: 19,224\n",
      "Non-trainable params: 0\n",
      "_________________________________________________________________\n"
     ]
    }
   ],
   "source": [
    "\n",
    "model = Sequential([\n",
    "    LSTM(64, return_sequences=False, input_shape=(lookback, X.shape[2])),\n",
    "    Dense(steps_ahead)  # output nhiều bước dự đoán\n",
    "])\n",
    "model.compile(optimizer='adam', loss='mse')\n",
    "model.summary()"
   ]
  },
  {
   "cell_type": "code",
   "execution_count": 34,
   "id": "16ba5269",
   "metadata": {},
   "outputs": [
    {
     "name": "stdout",
     "output_type": "stream",
     "text": [
      "Epoch 1/10\n",
      "669/669 [==============================] - 19s 26ms/step - loss: 0.0041 - val_loss: 7.7633e-04\n",
      "Epoch 2/10\n",
      "669/669 [==============================] - 18s 27ms/step - loss: 4.7760e-04 - val_loss: 8.1518e-04\n",
      "Epoch 3/10\n",
      "669/669 [==============================] - 17s 25ms/step - loss: 4.3607e-04 - val_loss: 6.6623e-04\n",
      "Epoch 4/10\n",
      "669/669 [==============================] - 23s 35ms/step - loss: 4.1381e-04 - val_loss: 5.8728e-04\n",
      "Epoch 5/10\n",
      "669/669 [==============================] - 28s 42ms/step - loss: 4.0910e-04 - val_loss: 9.4790e-04\n",
      "Epoch 6/10\n",
      "669/669 [==============================] - 23s 34ms/step - loss: 3.8179e-04 - val_loss: 7.7284e-04\n",
      "Epoch 7/10\n",
      "669/669 [==============================] - 22s 33ms/step - loss: 3.8566e-04 - val_loss: 5.6270e-04\n",
      "Epoch 8/10\n",
      "669/669 [==============================] - 19s 28ms/step - loss: 3.7714e-04 - val_loss: 0.0011\n",
      "Epoch 9/10\n",
      "669/669 [==============================] - 17s 26ms/step - loss: 3.7250e-04 - val_loss: 5.1055e-04\n",
      "Epoch 10/10\n",
      "669/669 [==============================] - 18s 27ms/step - loss: 3.6034e-04 - val_loss: 5.6901e-04\n",
      "192/192 [==============================] - 3s 11ms/step\n"
     ]
    }
   ],
   "source": [
    "\n",
    "model.fit(X_train, y_train, epochs=10, batch_size=32,\n",
    "          validation_data=(X_val, y_val), verbose=1)\n",
    "\n",
    "preds_test_scaled = model.predict(X_test)\n",
    "\n",
    "# Chuyển từng bước dự đoán về giá thật\n",
    "preds_test_inv = []\n",
    "y_test_inv = []\n",
    "for i in range(len(preds_test_scaled)):\n",
    "    # tạo mảng dummy để inverse_transform\n",
    "    pred_dummy = np.zeros((steps_ahead, scaled.shape[1]))\n",
    "    true_dummy = np.zeros((steps_ahead, scaled.shape[1]))\n",
    "    pred_dummy[:, 0] = preds_test_scaled[i]\n",
    "    true_dummy[:, 0] = y_test[i]\n",
    "    preds_test_inv.append(scaler.inverse_transform(pred_dummy)[:, 0])\n",
    "    y_test_inv.append(scaler.inverse_transform(true_dummy)[:, 0])"
   ]
  },
  {
   "cell_type": "code",
   "execution_count": 35,
   "id": "bc81d611",
   "metadata": {},
   "outputs": [
    {
     "name": "stdout",
     "output_type": "stream",
     "text": [
      "Thực tế:   [2644.26 2641.05 2645.69 2646.03 2639.6  2631.48 2640.23 2635.98 2650.09\n",
      " 2645.7  2637.41 2641.29 2642.13 2641.34 2645.   2643.31 2650.8  2648.2\n",
      " 2642.49 2640.33 2639.19 2640.25 2641.79 2640.29]\n",
      "Dự đoán:  [2661.2767797  2666.36986001 2678.61867074 2677.83090305 2664.86830233\n",
      " 2660.12576252 2684.81838161 2675.18876094 2697.49284866 2671.9073756\n",
      " 2698.1360753  2692.6476885  2689.06792642 2694.73234223 2699.78426058\n",
      " 2707.34250558 2719.78650363 2698.93313763 2712.42913655 2707.54015883\n",
      " 2704.54690716 2682.06185859 2707.45157527 2704.71629713]\n",
      "----------------------------------------\n",
      "Thực tế:   [2641.05 2645.69 2646.03 2639.6  2631.48 2640.23 2635.98 2650.09 2645.7\n",
      " 2637.41 2641.29 2642.13 2641.34 2645.   2643.31 2650.8  2648.2  2642.49\n",
      " 2640.33 2639.19 2640.25 2641.79 2640.29 2650.79]\n",
      "Dự đoán:  [2661.59753943 2666.32983618 2678.71066865 2678.21369024 2664.88632254\n",
      " 2660.33498663 2685.31384253 2675.64723301 2697.59243403 2672.67750245\n",
      " 2698.76659295 2692.81043944 2689.47290693 2694.80119839 2699.95554742\n",
      " 2707.54414224 2720.12300734 2699.30606113 2712.3517445  2707.70689319\n",
      " 2704.54387217 2682.16030584 2707.87836971 2705.00405142]\n",
      "----------------------------------------\n",
      "Thực tế:   [2645.69 2646.03 2639.6  2631.48 2640.23 2635.98 2650.09 2645.7  2637.41\n",
      " 2641.29 2642.13 2641.34 2645.   2643.31 2650.8  2648.2  2642.49 2640.33\n",
      " 2639.19 2640.25 2641.79 2640.29 2650.79 2646.1 ]\n",
      "Dự đoán:  [2660.53226051 2664.98021731 2677.48339753 2677.52816352 2663.57596877\n",
      " 2659.16177614 2684.61503777 2674.92547619 2696.359662   2672.4771936\n",
      " 2698.30812088 2691.68654742 2688.74470077 2693.6628902  2698.88476759\n",
      " 2706.43106234 2719.29938891 2698.38570263 2710.92890668 2706.61961064\n",
      " 2703.1874246  2680.97552448 2707.08680829 2704.13414951]\n",
      "----------------------------------------\n",
      "Thực tế:   [2646.03 2639.6  2631.48 2640.23 2635.98 2650.09 2645.7  2637.41 2641.29\n",
      " 2642.13 2641.34 2645.   2643.31 2650.8  2648.2  2642.49 2640.33 2639.19\n",
      " 2640.25 2641.79 2640.29 2650.79 2646.1  2646.42]\n",
      "Dự đoán:  [2660.85757271 2665.40549426 2677.87813496 2677.80870974 2664.03406146\n",
      " 2659.45180667 2684.78632461 2675.29707188 2696.7633147  2672.75204922\n",
      " 2698.4642328  2692.04771036 2689.08765381 2694.08228687 2699.35481054\n",
      " 2706.85159713 2719.64992941 2698.80566836 2711.3251616  2706.98987853\n",
      " 2703.501735   2681.36172602 2707.29641178 2704.519782  ]\n",
      "----------------------------------------\n",
      "Thực tế:   [2639.6  2631.48 2640.23 2635.98 2650.09 2645.7  2637.41 2641.29 2642.13\n",
      " 2641.34 2645.   2643.31 2650.8  2648.2  2642.49 2640.33 2639.19 2640.25\n",
      " 2641.79 2640.29 2650.79 2646.1  2646.42 2648.63]\n",
      "Dự đoán:  [2661.18383335 2665.72815086 2678.18220229 2678.15583588 2664.37113423\n",
      " 2659.65761644 2685.09513409 2675.45849502 2697.02489227 2673.03164699\n",
      " 2698.58013121 2692.24024207 2689.23010831 2694.28885538 2699.55910281\n",
      " 2707.05607909 2719.93426935 2698.88799226 2711.51996955 2707.15869944\n",
      " 2703.6608819  2681.68874541 2707.378546   2704.61974674]\n",
      "----------------------------------------\n"
     ]
    }
   ],
   "source": [
    "for i in range(5):  \n",
    "    print(f\"Thực tế:   {y_test_inv[i]}\")\n",
    "    print(f\"Dự đoán:  {preds_test_inv[i]}\")\n",
    "    print(\"-\"*40)"
   ]
  },
  {
   "cell_type": "code",
   "execution_count": 36,
   "id": "f0e41b99",
   "metadata": {},
   "outputs": [
    {
     "name": "stdout",
     "output_type": "stream",
     "text": [
      "                  time    predicted   actual\n",
      "0  2024-10-19 06:00:00  2661.276780  2644.26\n",
      "1  2024-10-19 07:00:00  2666.369860  2641.05\n",
      "2  2024-10-19 08:00:00  2678.618671  2645.69\n",
      "3  2024-10-19 09:00:00  2677.830903  2646.03\n",
      "4  2024-10-19 10:00:00  2664.868302  2639.60\n",
      "5  2024-10-19 11:00:00  2660.125763  2631.48\n",
      "6  2024-10-19 12:00:00  2684.818382  2640.23\n",
      "7  2024-10-19 13:00:00  2675.188761  2635.98\n",
      "8  2024-10-19 14:00:00  2697.492849  2650.09\n",
      "9  2024-10-19 15:00:00  2671.907376  2645.70\n",
      "10 2024-10-19 16:00:00  2698.136075  2637.41\n",
      "11 2024-10-19 17:00:00  2692.647688  2641.29\n",
      "12 2024-10-19 18:00:00  2689.067926  2642.13\n",
      "13 2024-10-19 19:00:00  2694.732342  2641.34\n",
      "14 2024-10-19 20:00:00  2699.784261  2645.00\n",
      "15 2024-10-19 21:00:00  2707.342506  2643.31\n",
      "16 2024-10-19 22:00:00  2719.786504  2650.80\n",
      "17 2024-10-19 23:00:00  2698.933138  2648.20\n",
      "18 2024-10-20 00:00:00  2712.429137  2642.49\n",
      "19 2024-10-20 01:00:00  2707.540159  2640.33\n",
      "20 2024-10-20 02:00:00  2704.546907  2639.19\n",
      "21 2024-10-20 03:00:00  2682.061859  2640.25\n",
      "22 2024-10-20 04:00:00  2707.451575  2641.79\n",
      "23 2024-10-20 05:00:00  2704.716297  2640.29\n"
     ]
    }
   ],
   "source": [
    "# Ghép kết quả kèm thời gian\n",
    "results_list = []\n",
    "for i in range(len(preds_test_inv)):\n",
    "    df_result = pd.DataFrame({\n",
    "        'time': times_test[i],\n",
    "        'predicted': preds_test_inv[i],\n",
    "        'actual': y_test_inv[i]\n",
    "    })\n",
    "    results_list.append(df_result)\n",
    "\n",
    "# Ví dụ xem kết quả của 1 dự đoán\n",
    "print(results_list[0])\n"
   ]
  },
  {
   "cell_type": "code",
   "execution_count": 37,
   "id": "3f6ef8b8",
   "metadata": {},
   "outputs": [
    {
     "data": {
      "application/vnd.plotly.v1+json": {
       "config": {
        "plotlyServerURL": "https://plot.ly"
       },
       "data": [
        {
         "mode": "lines+markers",
         "name": "Actual",
         "type": "scatter",
         "x": [
          "2024-10-19T06:00:00.000000000",
          "2024-10-19T07:00:00.000000000",
          "2024-10-19T08:00:00.000000000",
          "2024-10-19T09:00:00.000000000",
          "2024-10-19T10:00:00.000000000",
          "2024-10-19T11:00:00.000000000",
          "2024-10-19T12:00:00.000000000",
          "2024-10-19T13:00:00.000000000",
          "2024-10-19T14:00:00.000000000",
          "2024-10-19T15:00:00.000000000",
          "2024-10-19T16:00:00.000000000",
          "2024-10-19T17:00:00.000000000",
          "2024-10-19T18:00:00.000000000",
          "2024-10-19T19:00:00.000000000",
          "2024-10-19T20:00:00.000000000",
          "2024-10-19T21:00:00.000000000",
          "2024-10-19T22:00:00.000000000",
          "2024-10-19T23:00:00.000000000",
          "2024-10-20T00:00:00.000000000",
          "2024-10-20T01:00:00.000000000",
          "2024-10-20T02:00:00.000000000",
          "2024-10-20T03:00:00.000000000",
          "2024-10-20T04:00:00.000000000",
          "2024-10-20T05:00:00.000000000"
         ],
         "y": {
          "bdata": "7FG4HoWopECamZmZGaKkQHsUrkdhq6RAw/UoXA+spEAzMzMzM5+kQClcj8L1jqRAKVyPwnWgpEApXI/C9ZekQEjhehQutKRAZmZmZmarpEC4HoXr0ZqkQK5H4XqUoqRA9ihcj0KkpEBI4XoUrqKkQAAAAAAAqqRAhetRuJ6mpECamZmZmbWkQGZmZmZmsKRAFK5H4fqkpEBcj8L1qKCkQHsUrkdhnqRAAAAAAICgpECuR+F6lKOkQK5H4XqUoKRA",
          "dtype": "f8"
         }
        },
        {
         "mode": "lines+markers",
         "name": "Predicted",
         "type": "scatter",
         "x": [
          "2024-10-19T06:00:00.000000000",
          "2024-10-19T07:00:00.000000000",
          "2024-10-19T08:00:00.000000000",
          "2024-10-19T09:00:00.000000000",
          "2024-10-19T10:00:00.000000000",
          "2024-10-19T11:00:00.000000000",
          "2024-10-19T12:00:00.000000000",
          "2024-10-19T13:00:00.000000000",
          "2024-10-19T14:00:00.000000000",
          "2024-10-19T15:00:00.000000000",
          "2024-10-19T16:00:00.000000000",
          "2024-10-19T17:00:00.000000000",
          "2024-10-19T18:00:00.000000000",
          "2024-10-19T19:00:00.000000000",
          "2024-10-19T20:00:00.000000000",
          "2024-10-19T21:00:00.000000000",
          "2024-10-19T22:00:00.000000000",
          "2024-10-19T23:00:00.000000000",
          "2024-10-20T00:00:00.000000000",
          "2024-10-20T01:00:00.000000000",
          "2024-10-20T02:00:00.000000000",
          "2024-10-20T03:00:00.000000000",
          "2024-10-20T04:00:00.000000000",
          "2024-10-20T05:00:00.000000000"
         ],
         "y": {
          "bdata": "PYoRto3KpEA9ikpevdSkQFI4acI87aRAj8IfbKnrpECFax+SvNGkQK7H8WNAyKRAmRnqAqP5pEDh+kWlYOakQCncqFb8EqVAzMyIk9DfpEDheqmrRRSlQJmZ051LCaVAXI9AxyICpUBmZo/1dg2lQMJ1moqRF6VAFC7kXK8mpUDXo5qwkj+lQLgeN8TdFaVAzEzJt9swpUC4nrKPFCelQB4FNwQYIaVAKdztqx/0pEAUrt805yalQK5Hf75uIaVA",
          "dtype": "f8"
         }
        }
       ],
       "layout": {
        "hovermode": "x unified",
        "template": {
         "data": {
          "bar": [
           {
            "error_x": {
             "color": "#2a3f5f"
            },
            "error_y": {
             "color": "#2a3f5f"
            },
            "marker": {
             "line": {
              "color": "#E5ECF6",
              "width": 0.5
             },
             "pattern": {
              "fillmode": "overlay",
              "size": 10,
              "solidity": 0.2
             }
            },
            "type": "bar"
           }
          ],
          "barpolar": [
           {
            "marker": {
             "line": {
              "color": "#E5ECF6",
              "width": 0.5
             },
             "pattern": {
              "fillmode": "overlay",
              "size": 10,
              "solidity": 0.2
             }
            },
            "type": "barpolar"
           }
          ],
          "carpet": [
           {
            "aaxis": {
             "endlinecolor": "#2a3f5f",
             "gridcolor": "white",
             "linecolor": "white",
             "minorgridcolor": "white",
             "startlinecolor": "#2a3f5f"
            },
            "baxis": {
             "endlinecolor": "#2a3f5f",
             "gridcolor": "white",
             "linecolor": "white",
             "minorgridcolor": "white",
             "startlinecolor": "#2a3f5f"
            },
            "type": "carpet"
           }
          ],
          "choropleth": [
           {
            "colorbar": {
             "outlinewidth": 0,
             "ticks": ""
            },
            "type": "choropleth"
           }
          ],
          "contour": [
           {
            "colorbar": {
             "outlinewidth": 0,
             "ticks": ""
            },
            "colorscale": [
             [
              0,
              "#0d0887"
             ],
             [
              0.1111111111111111,
              "#46039f"
             ],
             [
              0.2222222222222222,
              "#7201a8"
             ],
             [
              0.3333333333333333,
              "#9c179e"
             ],
             [
              0.4444444444444444,
              "#bd3786"
             ],
             [
              0.5555555555555556,
              "#d8576b"
             ],
             [
              0.6666666666666666,
              "#ed7953"
             ],
             [
              0.7777777777777778,
              "#fb9f3a"
             ],
             [
              0.8888888888888888,
              "#fdca26"
             ],
             [
              1,
              "#f0f921"
             ]
            ],
            "type": "contour"
           }
          ],
          "contourcarpet": [
           {
            "colorbar": {
             "outlinewidth": 0,
             "ticks": ""
            },
            "type": "contourcarpet"
           }
          ],
          "heatmap": [
           {
            "colorbar": {
             "outlinewidth": 0,
             "ticks": ""
            },
            "colorscale": [
             [
              0,
              "#0d0887"
             ],
             [
              0.1111111111111111,
              "#46039f"
             ],
             [
              0.2222222222222222,
              "#7201a8"
             ],
             [
              0.3333333333333333,
              "#9c179e"
             ],
             [
              0.4444444444444444,
              "#bd3786"
             ],
             [
              0.5555555555555556,
              "#d8576b"
             ],
             [
              0.6666666666666666,
              "#ed7953"
             ],
             [
              0.7777777777777778,
              "#fb9f3a"
             ],
             [
              0.8888888888888888,
              "#fdca26"
             ],
             [
              1,
              "#f0f921"
             ]
            ],
            "type": "heatmap"
           }
          ],
          "histogram": [
           {
            "marker": {
             "pattern": {
              "fillmode": "overlay",
              "size": 10,
              "solidity": 0.2
             }
            },
            "type": "histogram"
           }
          ],
          "histogram2d": [
           {
            "colorbar": {
             "outlinewidth": 0,
             "ticks": ""
            },
            "colorscale": [
             [
              0,
              "#0d0887"
             ],
             [
              0.1111111111111111,
              "#46039f"
             ],
             [
              0.2222222222222222,
              "#7201a8"
             ],
             [
              0.3333333333333333,
              "#9c179e"
             ],
             [
              0.4444444444444444,
              "#bd3786"
             ],
             [
              0.5555555555555556,
              "#d8576b"
             ],
             [
              0.6666666666666666,
              "#ed7953"
             ],
             [
              0.7777777777777778,
              "#fb9f3a"
             ],
             [
              0.8888888888888888,
              "#fdca26"
             ],
             [
              1,
              "#f0f921"
             ]
            ],
            "type": "histogram2d"
           }
          ],
          "histogram2dcontour": [
           {
            "colorbar": {
             "outlinewidth": 0,
             "ticks": ""
            },
            "colorscale": [
             [
              0,
              "#0d0887"
             ],
             [
              0.1111111111111111,
              "#46039f"
             ],
             [
              0.2222222222222222,
              "#7201a8"
             ],
             [
              0.3333333333333333,
              "#9c179e"
             ],
             [
              0.4444444444444444,
              "#bd3786"
             ],
             [
              0.5555555555555556,
              "#d8576b"
             ],
             [
              0.6666666666666666,
              "#ed7953"
             ],
             [
              0.7777777777777778,
              "#fb9f3a"
             ],
             [
              0.8888888888888888,
              "#fdca26"
             ],
             [
              1,
              "#f0f921"
             ]
            ],
            "type": "histogram2dcontour"
           }
          ],
          "mesh3d": [
           {
            "colorbar": {
             "outlinewidth": 0,
             "ticks": ""
            },
            "type": "mesh3d"
           }
          ],
          "parcoords": [
           {
            "line": {
             "colorbar": {
              "outlinewidth": 0,
              "ticks": ""
             }
            },
            "type": "parcoords"
           }
          ],
          "pie": [
           {
            "automargin": true,
            "type": "pie"
           }
          ],
          "scatter": [
           {
            "fillpattern": {
             "fillmode": "overlay",
             "size": 10,
             "solidity": 0.2
            },
            "type": "scatter"
           }
          ],
          "scatter3d": [
           {
            "line": {
             "colorbar": {
              "outlinewidth": 0,
              "ticks": ""
             }
            },
            "marker": {
             "colorbar": {
              "outlinewidth": 0,
              "ticks": ""
             }
            },
            "type": "scatter3d"
           }
          ],
          "scattercarpet": [
           {
            "marker": {
             "colorbar": {
              "outlinewidth": 0,
              "ticks": ""
             }
            },
            "type": "scattercarpet"
           }
          ],
          "scattergeo": [
           {
            "marker": {
             "colorbar": {
              "outlinewidth": 0,
              "ticks": ""
             }
            },
            "type": "scattergeo"
           }
          ],
          "scattergl": [
           {
            "marker": {
             "colorbar": {
              "outlinewidth": 0,
              "ticks": ""
             }
            },
            "type": "scattergl"
           }
          ],
          "scattermap": [
           {
            "marker": {
             "colorbar": {
              "outlinewidth": 0,
              "ticks": ""
             }
            },
            "type": "scattermap"
           }
          ],
          "scattermapbox": [
           {
            "marker": {
             "colorbar": {
              "outlinewidth": 0,
              "ticks": ""
             }
            },
            "type": "scattermapbox"
           }
          ],
          "scatterpolar": [
           {
            "marker": {
             "colorbar": {
              "outlinewidth": 0,
              "ticks": ""
             }
            },
            "type": "scatterpolar"
           }
          ],
          "scatterpolargl": [
           {
            "marker": {
             "colorbar": {
              "outlinewidth": 0,
              "ticks": ""
             }
            },
            "type": "scatterpolargl"
           }
          ],
          "scatterternary": [
           {
            "marker": {
             "colorbar": {
              "outlinewidth": 0,
              "ticks": ""
             }
            },
            "type": "scatterternary"
           }
          ],
          "surface": [
           {
            "colorbar": {
             "outlinewidth": 0,
             "ticks": ""
            },
            "colorscale": [
             [
              0,
              "#0d0887"
             ],
             [
              0.1111111111111111,
              "#46039f"
             ],
             [
              0.2222222222222222,
              "#7201a8"
             ],
             [
              0.3333333333333333,
              "#9c179e"
             ],
             [
              0.4444444444444444,
              "#bd3786"
             ],
             [
              0.5555555555555556,
              "#d8576b"
             ],
             [
              0.6666666666666666,
              "#ed7953"
             ],
             [
              0.7777777777777778,
              "#fb9f3a"
             ],
             [
              0.8888888888888888,
              "#fdca26"
             ],
             [
              1,
              "#f0f921"
             ]
            ],
            "type": "surface"
           }
          ],
          "table": [
           {
            "cells": {
             "fill": {
              "color": "#EBF0F8"
             },
             "line": {
              "color": "white"
             }
            },
            "header": {
             "fill": {
              "color": "#C8D4E3"
             },
             "line": {
              "color": "white"
             }
            },
            "type": "table"
           }
          ]
         },
         "layout": {
          "annotationdefaults": {
           "arrowcolor": "#2a3f5f",
           "arrowhead": 0,
           "arrowwidth": 1
          },
          "autotypenumbers": "strict",
          "coloraxis": {
           "colorbar": {
            "outlinewidth": 0,
            "ticks": ""
           }
          },
          "colorscale": {
           "diverging": [
            [
             0,
             "#8e0152"
            ],
            [
             0.1,
             "#c51b7d"
            ],
            [
             0.2,
             "#de77ae"
            ],
            [
             0.3,
             "#f1b6da"
            ],
            [
             0.4,
             "#fde0ef"
            ],
            [
             0.5,
             "#f7f7f7"
            ],
            [
             0.6,
             "#e6f5d0"
            ],
            [
             0.7,
             "#b8e186"
            ],
            [
             0.8,
             "#7fbc41"
            ],
            [
             0.9,
             "#4d9221"
            ],
            [
             1,
             "#276419"
            ]
           ],
           "sequential": [
            [
             0,
             "#0d0887"
            ],
            [
             0.1111111111111111,
             "#46039f"
            ],
            [
             0.2222222222222222,
             "#7201a8"
            ],
            [
             0.3333333333333333,
             "#9c179e"
            ],
            [
             0.4444444444444444,
             "#bd3786"
            ],
            [
             0.5555555555555556,
             "#d8576b"
            ],
            [
             0.6666666666666666,
             "#ed7953"
            ],
            [
             0.7777777777777778,
             "#fb9f3a"
            ],
            [
             0.8888888888888888,
             "#fdca26"
            ],
            [
             1,
             "#f0f921"
            ]
           ],
           "sequentialminus": [
            [
             0,
             "#0d0887"
            ],
            [
             0.1111111111111111,
             "#46039f"
            ],
            [
             0.2222222222222222,
             "#7201a8"
            ],
            [
             0.3333333333333333,
             "#9c179e"
            ],
            [
             0.4444444444444444,
             "#bd3786"
            ],
            [
             0.5555555555555556,
             "#d8576b"
            ],
            [
             0.6666666666666666,
             "#ed7953"
            ],
            [
             0.7777777777777778,
             "#fb9f3a"
            ],
            [
             0.8888888888888888,
             "#fdca26"
            ],
            [
             1,
             "#f0f921"
            ]
           ]
          },
          "colorway": [
           "#636efa",
           "#EF553B",
           "#00cc96",
           "#ab63fa",
           "#FFA15A",
           "#19d3f3",
           "#FF6692",
           "#B6E880",
           "#FF97FF",
           "#FECB52"
          ],
          "font": {
           "color": "#2a3f5f"
          },
          "geo": {
           "bgcolor": "white",
           "lakecolor": "white",
           "landcolor": "#E5ECF6",
           "showlakes": true,
           "showland": true,
           "subunitcolor": "white"
          },
          "hoverlabel": {
           "align": "left"
          },
          "hovermode": "closest",
          "mapbox": {
           "style": "light"
          },
          "paper_bgcolor": "white",
          "plot_bgcolor": "#E5ECF6",
          "polar": {
           "angularaxis": {
            "gridcolor": "white",
            "linecolor": "white",
            "ticks": ""
           },
           "bgcolor": "#E5ECF6",
           "radialaxis": {
            "gridcolor": "white",
            "linecolor": "white",
            "ticks": ""
           }
          },
          "scene": {
           "xaxis": {
            "backgroundcolor": "#E5ECF6",
            "gridcolor": "white",
            "gridwidth": 2,
            "linecolor": "white",
            "showbackground": true,
            "ticks": "",
            "zerolinecolor": "white"
           },
           "yaxis": {
            "backgroundcolor": "#E5ECF6",
            "gridcolor": "white",
            "gridwidth": 2,
            "linecolor": "white",
            "showbackground": true,
            "ticks": "",
            "zerolinecolor": "white"
           },
           "zaxis": {
            "backgroundcolor": "#E5ECF6",
            "gridcolor": "white",
            "gridwidth": 2,
            "linecolor": "white",
            "showbackground": true,
            "ticks": "",
            "zerolinecolor": "white"
           }
          },
          "shapedefaults": {
           "line": {
            "color": "#2a3f5f"
           }
          },
          "ternary": {
           "aaxis": {
            "gridcolor": "white",
            "linecolor": "white",
            "ticks": ""
           },
           "baxis": {
            "gridcolor": "white",
            "linecolor": "white",
            "ticks": ""
           },
           "bgcolor": "#E5ECF6",
           "caxis": {
            "gridcolor": "white",
            "linecolor": "white",
            "ticks": ""
           }
          },
          "title": {
           "x": 0.05
          },
          "xaxis": {
           "automargin": true,
           "gridcolor": "white",
           "linecolor": "white",
           "ticks": "",
           "title": {
            "standoff": 15
           },
           "zerolinecolor": "white",
           "zerolinewidth": 2
          },
          "yaxis": {
           "automargin": true,
           "gridcolor": "white",
           "linecolor": "white",
           "ticks": "",
           "title": {
            "standoff": 15
           },
           "zerolinecolor": "white",
           "zerolinewidth": 2
          }
         }
        },
        "title": {
         "text": "Dự đoán 24 giờ tiếp theo - Mẫu test 0"
        },
        "xaxis": {
         "title": {
          "text": "Thời gian"
         }
        },
        "yaxis": {
         "title": {
          "text": "Giá ETH"
         }
        }
       }
      }
     },
     "metadata": {},
     "output_type": "display_data"
    }
   ],
   "source": [
    "import plotly.graph_objects as go\n",
    "\n",
    "# Chọn một dự đoán để vẽ\n",
    "i = 0\n",
    "df_plot = results_list[i]\n",
    "\n",
    "fig = go.Figure()\n",
    "\n",
    "fig.add_trace(go.Scatter(\n",
    "    x=df_plot['time'],\n",
    "    y=df_plot['actual'],\n",
    "    mode='lines+markers',\n",
    "    name='Actual'\n",
    "))\n",
    "\n",
    "fig.add_trace(go.Scatter(\n",
    "    x=df_plot['time'],\n",
    "    y=df_plot['predicted'],\n",
    "    mode='lines+markers',\n",
    "    name='Predicted'\n",
    "))\n",
    "\n",
    "fig.update_layout(\n",
    "    title=f\"Dự đoán 24 giờ tiếp theo - Mẫu test {i}\",\n",
    "    xaxis_title=\"Thời gian\",\n",
    "    yaxis_title=\"Giá ETH\",\n",
    "    hovermode=\"x unified\"\n",
    ")\n",
    "\n",
    "fig.show()\n"
   ]
  },
  {
   "cell_type": "code",
   "execution_count": 38,
   "id": "52571c49",
   "metadata": {},
   "outputs": [
    {
     "name": "stdout",
     "output_type": "stream",
     "text": [
      "Đánh giá mô hình trên test set:\n",
      "MAE  : 116.6903\n",
      "RMSE : 145.1776\n",
      "R² score: 0.9499\n"
     ]
    }
   ],
   "source": [
    "# đánh giá \n",
    "from sklearn.metrics import mean_absolute_error, mean_squared_error,r2_score\n",
    "import numpy as np\n",
    "\n",
    "all_pred = np.concatenate(preds_test_inv)  \n",
    "all_true = np.concatenate(y_test_inv)      \n",
    "\n",
    "mae = mean_absolute_error(all_true, all_pred)\n",
    "rmse = np.sqrt(mean_squared_error(all_true, all_pred))\n",
    "r2 = r2_score(all_true, all_pred)\n",
    "print(\"Đánh giá mô hình trên test set:\")\n",
    "print(f\"MAE  : {mae:.4f}\")\n",
    "print(f\"RMSE : {rmse:.4f}\")\n",
    "print(f\"R² score: {r2:.4f}\")\n"
   ]
  }
 ],
 "metadata": {
  "kernelspec": {
   "display_name": "Python 3",
   "language": "python",
   "name": "python3"
  },
  "language_info": {
   "codemirror_mode": {
    "name": "ipython",
    "version": 3
   },
   "file_extension": ".py",
   "mimetype": "text/x-python",
   "name": "python",
   "nbconvert_exporter": "python",
   "pygments_lexer": "ipython3",
   "version": "3.10.8"
  }
 },
 "nbformat": 4,
 "nbformat_minor": 5
}
